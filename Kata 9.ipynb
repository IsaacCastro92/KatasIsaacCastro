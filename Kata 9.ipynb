{
 "cells": [
  {
   "cell_type": "code",
   "execution_count": 4,
   "metadata": {},
   "outputs": [
    {
     "name": "stdout",
     "output_type": "stream",
     "text": [
      "6.0\n",
      "8.0\n",
      "6.333333333333333\n"
     ]
    }
   ],
   "source": [
    "def combustible(nivel1, nivel2, nivel3):\n",
    "    promedio_combustible = (nivel1+nivel2+nivel3)/3\n",
    "    return promedio_combustible\n",
    "\n",
    "print(combustible(3,6,9))\n",
    "\n",
    "def prom(*args):\n",
    "    promedio= sum(args)/len(args)\n",
    "    return promedio\n",
    "\n",
    "print(prom(3,9,12))\n",
    "\n",
    "def combustible(nivel1, nivel2, nivel3):\n",
    "    promedio_combustible=prom(nivel1,nivel2,nivel3)\n",
    "    return promedio_combustible\n",
    "\n",
    "print(combustible(7,4,8))\n"
   ]
  },
  {
   "cell_type": "code",
   "execution_count": 5,
   "metadata": {},
   "outputs": [
    {
     "name": "stdout",
     "output_type": "stream",
     "text": [
      "Misión hacia: Marte \n",
      "Tiempo de viaje: 100 minutos \n",
      "Combustible: 1450 litros\n"
     ]
    }
   ],
   "source": [
    "def reporte(hdl, tdv, d, te, ti):\n",
    "    return print(f'Misión hacia: {d} \\nTiempo de viaje: {hdl + tdv} minutos \\nCombustible: {te + ti} litros')\n",
    "\n",
    "reporte(10,90,'Marte', 1000, 450)\n"
   ]
  },
  {
   "cell_type": "code",
   "execution_count": 6,
   "metadata": {},
   "outputs": [
    {
     "name": "stdout",
     "output_type": "stream",
     "text": [
      "Misión hacia: Marte\n",
      "Tiempo de viaje: 150 minutos \n",
      "Combustible restante: 1450 litros\n",
      "El tanque externo tiene: 450 litros\n",
      "El tanque interno tiene: 1000 litros\n"
     ]
    }
   ],
   "source": [
    "def reporte(d, *tdlv, **ct):\n",
    "    print(f'Misión hacia: {d}\\nTiempo de viaje: {sum(tdlv)} minutos \\nCombustible restante: {sum(ct.values())} litros')\n",
    "    for tanque, litros in ct.items():\n",
    "        print(f'El tanque {tanque} tiene: {litros} litros')\n",
    "\n",
    "reporte('Marte', 10,30,50,60, externo=450, interno=1000)"
   ]
  }
 ],
 "metadata": {
  "interpreter": {
   "hash": "e2fb31f127fed1e79f709faf34890f85681c06e7e30d28a328e5c7500cdf6725"
  },
  "kernelspec": {
   "display_name": "Python 3.7.8 64-bit",
   "language": "python",
   "name": "python3"
  },
  "language_info": {
   "codemirror_mode": {
    "name": "ipython",
    "version": 3
   },
   "file_extension": ".py",
   "mimetype": "text/x-python",
   "name": "python",
   "nbconvert_exporter": "python",
   "pygments_lexer": "ipython3",
   "version": "3.7.8"
  },
  "orig_nbformat": 4
 },
 "nbformat": 4,
 "nbformat_minor": 2
}
