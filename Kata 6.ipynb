{
 "cells": [
  {
   "cell_type": "code",
   "execution_count": 24,
   "metadata": {},
   "outputs": [
    {
     "name": "stdout",
     "output_type": "stream",
     "text": [
      "['Mercurio', 'Venus', 'Tierra', 'Marte', 'Júpiter', 'Saturno', 'Urano', 'Neptuno']\n",
      "9\n",
      "Plutón es el último planeta\n"
     ]
    }
   ],
   "source": [
    "Planetas = ['Mercurio', 'Venus', 'Tierra', 'Marte', 'Júpiter', 'Saturno', 'Urano', 'Neptuno']\n",
    "print(Planetas)\n",
    "Planetas.append('Plutón')\n",
    "Número_planetas=len(Planetas)\n",
    "print(Número_planetas)\n",
    "print(Planetas[Número_planetas-1], 'es el último planeta')"
   ]
  },
  {
   "cell_type": "code",
   "execution_count": 25,
   "metadata": {},
   "outputs": [
    {
     "name": "stdout",
     "output_type": "stream",
     "text": [
      "Los planetas más cercanos al sol que Marte son: ['Mercurio', 'Venus', 'Tierra']\n",
      "Los planetas más alejados al sol que Marte son: ['Júpiter', 'Saturno', 'Urano', 'Neptuno']\n"
     ]
    }
   ],
   "source": [
    "Planetas = ['Mercurio', 'Venus', 'Tierra', 'Marte', 'Júpiter', 'Saturno', 'Urano', 'Neptuno']\n",
    "pla = input('Ingrese el nombre del planeta que desea buscar. Por favor inicie el nombre con mayúscula')\n",
    "in_pla = Planetas.index(pla)\n",
    "pla_antes_de_pla = Planetas[0:in_pla]\n",
    "pla_despues_de_pla = Planetas[in_pla+1:]\n",
    "print('Los planetas más cercanos al sol que', pla, 'son:', pla_antes_de_pla,)\n",
    "print('Los planetas más alejados al sol que', pla, 'son:', pla_despues_de_pla)"
   ]
  }
 ],
 "metadata": {
  "interpreter": {
   "hash": "e2fb31f127fed1e79f709faf34890f85681c06e7e30d28a328e5c7500cdf6725"
  },
  "kernelspec": {
   "display_name": "Python 3.7.8 64-bit",
   "language": "python",
   "name": "python3"
  },
  "language_info": {
   "codemirror_mode": {
    "name": "ipython",
    "version": 3
   },
   "file_extension": ".py",
   "mimetype": "text/x-python",
   "name": "python",
   "nbconvert_exporter": "python",
   "pygments_lexer": "ipython3",
   "version": "3.7.8"
  },
  "orig_nbformat": 4
 },
 "nbformat": 4,
 "nbformat_minor": 2
}
