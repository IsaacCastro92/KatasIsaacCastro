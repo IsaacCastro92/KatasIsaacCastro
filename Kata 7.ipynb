{
 "cells": [
  {
   "cell_type": "code",
   "execution_count": 7,
   "metadata": {},
   "outputs": [
    {
     "name": "stdout",
     "output_type": "stream",
     "text": [
      "Este es el planeta número 1 de tu lista: Mercurio\n",
      "Este es el planeta número 2 de tu lista: Venus\n",
      "Este es el planeta número 3 de tu lista: Marte\n",
      "Este es el planeta número 4 de tu lista: Tierra\n"
     ]
    }
   ],
   "source": [
    "new_planet= ''\n",
    "planets=[]\n",
    "i=1\n",
    "\n",
    "while new_planet.lower() != 'done':\n",
    "    if new_planet:\n",
    "            planets.append(new_planet)\n",
    "    new_planet = input('Ingrese un nuevo planeta o escriba \"done\" cuando termine: ')\n",
    "for planet in planets:\n",
    "    print ('Este es el planeta número', i, 'de tu lista:', planet,)\n",
    "    i=i+1"
   ]
  }
 ],
 "metadata": {
  "interpreter": {
   "hash": "e2fb31f127fed1e79f709faf34890f85681c06e7e30d28a328e5c7500cdf6725"
  },
  "kernelspec": {
   "display_name": "Python 3.7.8 64-bit",
   "language": "python",
   "name": "python3"
  },
  "language_info": {
   "codemirror_mode": {
    "name": "ipython",
    "version": 3
   },
   "file_extension": ".py",
   "mimetype": "text/x-python",
   "name": "python",
   "nbconvert_exporter": "python",
   "pygments_lexer": "ipython3",
   "version": "3.7.8"
  },
  "orig_nbformat": 4
 },
 "nbformat": 4,
 "nbformat_minor": 2
}
