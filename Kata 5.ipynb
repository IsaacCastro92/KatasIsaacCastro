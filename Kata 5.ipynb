{
 "cells": [
  {
   "cell_type": "code",
   "execution_count": 2,
   "metadata": {},
   "outputs": [
    {
     "name": "stdout",
     "output_type": "stream",
     "text": [
      "628949330\n",
      "390577533.93\n"
     ]
    }
   ],
   "source": [
    "Tierra = 149597870\n",
    "Jupiter = 778547200\n",
    "distancia_entre_planetas = Jupiter-Tierra\n",
    "print(distancia_entre_planetas)\n",
    "print(distancia_entre_planetas*0.621)"
   ]
  },
  {
   "cell_type": "code",
   "execution_count": 3,
   "metadata": {},
   "outputs": [
    {
     "name": "stdout",
     "output_type": "stream",
     "text": [
      "4437200000\n",
      "2755501200.0\n"
     ]
    }
   ],
   "source": [
    "dis_pl1_sol = int(input(\"Ingrese la distancia del planeta 1 con el Sol: \"))\n",
    "dis_pl2_sol = int(input(\"Ingrese la distancia del planeta 2 con el Sol: \"))\n",
    "distancia_entre_planetas = abs(dis_pl1_sol-dis_pl2_sol)\n",
    "print(distancia_entre_planetas)\n",
    "print(distancia_entre_planetas*0.621)"
   ]
  }
 ],
 "metadata": {
  "interpreter": {
   "hash": "e2fb31f127fed1e79f709faf34890f85681c06e7e30d28a328e5c7500cdf6725"
  },
  "kernelspec": {
   "display_name": "Python 3.7.8 64-bit",
   "language": "python",
   "name": "python3"
  },
  "language_info": {
   "codemirror_mode": {
    "name": "ipython",
    "version": 3
   },
   "file_extension": ".py",
   "mimetype": "text/x-python",
   "name": "python",
   "nbconvert_exporter": "python",
   "pygments_lexer": "ipython3",
   "version": "3.7.8"
  },
  "orig_nbformat": 4
 },
 "nbformat": 4,
 "nbformat_minor": 2
}
