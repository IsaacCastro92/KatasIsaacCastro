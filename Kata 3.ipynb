{
 "cells": [
  {
   "cell_type": "markdown",
   "metadata": {},
   "source": [
    "# Añadir el código necesario para crear una variable que guarde la velocidad del asteroide.\n",
    "# Escribe una expresión de prueba para calcular si necesita una advertencia.\n",
    "# Agregue las instrucciones que se ejecutarán si la expresión de prueba es true o false."
   ]
  },
  {
   "cell_type": "code",
   "execution_count": 15,
   "metadata": {},
   "outputs": [],
   "source": [
    "velast = int(input(\"Ingrese la velocidad del asteroide\"))\n",
    "if velast >= 25:\n",
    "    print(\"¡Cuidado! El asteroide que entró en la atmósfera es peligroso\")\n",
    "elif velast >=20 and velast <25:\n",
    "    print(\"Busquen el asteroide en el cielo\")\n",
    "else:\n",
    "    print(\"No hay problema con el asteroide, su velocidad es muy baja\")\n"
   ]
  },
  {
   "cell_type": "code",
   "execution_count": null,
   "metadata": {},
   "outputs": [
    {
     "name": "stdout",
     "output_type": "stream",
     "text": [
      "Un asteroide peligroso se acerca a la tierra\n"
     ]
    }
   ],
   "source": [
    "velast = int(input(\"Ingrese la velocidad del asteroide\"))\n",
    "tamast = int(input(\"Ingrese el tamaño del asteroide\"))\n",
    "if tamast >= 25 and tamast < 1000:\n",
    "    if velast >=25:\n",
    "        print(\"Un asteroide peligroso se acerca a la tierra\")\n",
    "    elif velast >= 20 and velast < 25:\n",
    "        print(\"Busquen en el cielo la luz del asteroide\")\n",
    "    else:\n",
    "        print(\"El tamaño del asteroide es grande pero su velocidad es baja, no hay riesgo\")\n",
    "elif tamast < 25:\n",
    "    print(\"No importa la velocidad del asteroide, se quemará en la atmósfera\")"
   ]
  }
 ],
 "metadata": {
  "interpreter": {
   "hash": "e2fb31f127fed1e79f709faf34890f85681c06e7e30d28a328e5c7500cdf6725"
  },
  "kernelspec": {
   "display_name": "Python 3.7.8 64-bit",
   "language": "python",
   "name": "python3"
  },
  "language_info": {
   "codemirror_mode": {
    "name": "ipython",
    "version": 3
   },
   "file_extension": ".py",
   "mimetype": "text/x-python",
   "name": "python",
   "nbconvert_exporter": "python",
   "pygments_lexer": "ipython3",
   "version": "3.7.8"
  },
  "orig_nbformat": 4
 },
 "nbformat": 4,
 "nbformat_minor": 2
}
